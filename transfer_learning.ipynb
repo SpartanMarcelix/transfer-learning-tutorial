{
 "cells": [
  {
   "cell_type": "code",
   "execution_count": null,
   "metadata": {},
   "outputs": [],
   "source": [
    "import torch\n",
    "import torch.nn as nn\n",
    "import torch.optim as optim\n",
    "from torch.optim import lr_scheduler\n",
    "import torchvision\n",
    "from torch.autograd import Variable\n",
    "from torchvision import datasets,models, transforms\n",
    "import os\n",
    "import numpy as np"
   ]
  },
  {
   "cell_type": "code",
   "execution_count": null,
   "metadata": {},
   "outputs": [],
   "source": [
    "# Data augmentation and normalization for training\n",
    "# Just normalize for validation\n",
    "# class torchvision.transforms.RandomResizedCrop(size, scale = (0.08,1.0), ratio = (0.75,1.333333333333), interpolation = 2)\n",
    "# transforms.RandomResizedCrop(224) --> A crop of random size (default of 0.08 to 1.0) of the original size and a \n",
    "# random aspect ratio (default of 3/4 to 4/3) of the original aspect ratio is made\n",
    "# This crop is finally resized to given size (224 in this case)\n",
    "# transforms.CenterCrop(224) --> Crops the image at the center. 224 is the desired output size of the crop\n",
    "\n",
    "# class torchvision.transforms.Normalize(mean,std)\n",
    "# Normalize a tensor image with mean and standard deviation. Given mean: (M1,..., Mn) and std: (S1,...,Sn) for n channels\n",
    "# this transform will normalize each channel of the input torch.Tensor i.e.\n",
    "# output[channel] = (input[channel] - mean[channel]) / std[channel]\n",
    "\n",
    "# Parameters mean (sequence) --->  Sequence of means for each channel\n",
    "#            std (sequence)  --->  Sequence of standard deviations for each channel\n",
    "\n",
    "data_transforms = {\n",
    "    'train': transforms.Compose([\n",
    "        transforms.RandomResizedCrop(224),\n",
    "        transforms.RandomHorizontalFlip(),\n",
    "        transforms.ToTensor(),\n",
    "        transforms.Normalize([0.485, 0.456, 0.406],[0.229, 0.224, 0.225])\n",
    "    ]),\n",
    "    'val':  transforms.Compose([\n",
    "        transforms.Resize(256),\n",
    "        transforms.CenterCrop(224),\n",
    "        transforms.ToTensor(),\n",
    "        transforms.Normalize([0.485, 0.456, 0.406],[0.229, 0.224, 0.225])\n",
    "    ])\n",
    "}"
   ]
  }
 ],
 "metadata": {
  "language_info": {
   "name": "python"
  }
 },
 "nbformat": 4,
 "nbformat_minor": 2
}
